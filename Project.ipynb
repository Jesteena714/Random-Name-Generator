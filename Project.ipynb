{
 "cells": [
  {
   "cell_type": "code",
   "execution_count": 5,
   "id": "5113474b",
   "metadata": {},
   "outputs": [
    {
     "name": "stdout",
     "output_type": "stream",
     "text": [
      "Welcome to the Random Username Generator!\n"
     ]
    },
    {
     "name": "stdin",
     "output_type": "stream",
     "text": [
      "Include numbers in the username? (yes/no):  no\n",
      "Include special characters in the username? (yes/no):  yes\n",
      "Enter the desired length for the username (e.g., 8):  20\n",
      "How many usernames would you like to generate?  3\n"
     ]
    },
    {
     "name": "stdout",
     "output_type": "stream",
     "text": [
      "\n",
      "Generated Usernames:\n",
      "AgileAuroraFNZfNfiuv^\n",
      "EccentricPantherupFC/\n",
      "AgileMeadowpDQqPOmqT.\n"
     ]
    },
    {
     "name": "stdin",
     "output_type": "stream",
     "text": [
      "Do you want to save the usernames to a file? (yes/no):  no\n"
     ]
    }
   ],
   "source": [
    "import random\n",
    "import string\n",
    "\n",
    "#Combine random adjectives and nouns\n",
    "adjectives = [\"Ancient\",\"Brilliant\",\"Eccentric\",\"Fierce\",\"Mystic\",\"Radiant\",\"Silent\",\"Vibrant\",\"Agile\",\"Gentle\",\"Majestic\",\"Enchanted\",\"Curious\",\"Noble\",\"Luminous\"]\n",
    "nouns = [ \"Dragon\", \"Bear\", \"Phoenix\", \"Wolf\", \"Shark\", \"Eagle\", \"Lion\", \"Panther\", \"Falcon\",\"Aurora\",\"Shadow\",\"Meadow\",\"Tempest\",\"Prism\",\"Orbit\"]\n",
    "\n",
    "def generate_username(include_numbers, include_special_chars, username_length):\n",
    "   \n",
    "    adjective = random.choice(adjectives)\n",
    "    noun = random.choice(nouns)\n",
    "\n",
    "   \n",
    "    base_username = adjective + noun\n",
    "#Customization Option\n",
    "   \n",
    "    if username_length > len(base_username):\n",
    "        base_username += ''.join(random.choices(string.ascii_letters, k=username_length - len(base_username)))\n",
    "    elif username_length < len(base_username):\n",
    "        base_username = base_username[:username_length]\n",
    "\n",
    "    if include_numbers:\n",
    "        base_username += str(random.randint(0, 999))\n",
    "    if include_special_chars:\n",
    "        base_username += random.choice(string.punctuation)\n",
    "\n",
    "    return base_username\n",
    "#Save File\n",
    "\n",
    "def save_usernames_to_file(usernames, filename=\"usernames.txt\"):\n",
    "    try:\n",
    "        with open(filename, 'a') as file:\n",
    "            for username in usernames:\n",
    "                file.write(username + \"\\n\")\n",
    "        print(f\"Usernames saved to {filename}.\")\n",
    "    except Exception as e:\n",
    "        print(f\"Error saving usernames: {e}\")\n",
    "\n",
    "# Interactive User Input\n",
    "def main():\n",
    "    print(\"Welcome to the Random Username Generator!\")\n",
    "\n",
    "    \n",
    "    try:\n",
    "        include_numbers = input(\"Include numbers in the username? (yes/no): \").lower() == 'yes'\n",
    "        include_special_chars = input(\"Include special characters in the username? (yes/no): \").lower() == 'yes'\n",
    "        username_length = int(input(\"Enter the desired length for the username (e.g., 8): \"))\n",
    "    except ValueError:\n",
    "        print(\"Invalid input! Please enter valid responses.\")\n",
    "        return\n",
    "\n",
    "  \n",
    "    usernames = []\n",
    "    num_usernames = int(input(\"How many usernames would you like to generate? \"))\n",
    "\n",
    "    for _ in range(num_usernames):\n",
    "        username = generate_username(include_numbers, include_special_chars, username_length)\n",
    "        usernames.append(username)\n",
    "\n",
    "    # Display the generated usernames\n",
    "    print(\"\\nGenerated Usernames:\")\n",
    "    for username in usernames:\n",
    "        print(username)\n",
    "\n",
    "    # Save to file option\n",
    "    save_to_file = input(\"Do you want to save the usernames to a file? (yes/no): \").lower() == 'yes'\n",
    "    if save_to_file:\n",
    "        save_usernames_to_file(usernames)\n",
    "\n",
    "if __name__ == \"__main__\":\n",
    "    main()\n"
   ]
  },
  {
   "cell_type": "code",
   "execution_count": null,
   "id": "ee5f8381",
   "metadata": {},
   "outputs": [],
   "source": []
  }
 ],
 "metadata": {
  "kernelspec": {
   "display_name": "Python 3 (ipykernel)",
   "language": "python",
   "name": "python3"
  },
  "language_info": {
   "codemirror_mode": {
    "name": "ipython",
    "version": 3
   },
   "file_extension": ".py",
   "mimetype": "text/x-python",
   "name": "python",
   "nbconvert_exporter": "python",
   "pygments_lexer": "ipython3",
   "version": "3.12.7"
  }
 },
 "nbformat": 4,
 "nbformat_minor": 5
}
