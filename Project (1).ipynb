{
 "cells": [
  {
   "cell_type": "code",
   "execution_count": 5,
   "id": "5113474b",
   "metadata": {},
   "outputs": [
    {
     "name": "stdout",
     "output_type": "stream",
     "text": [
      "Welcome to the Random Username Generator!\n"
     ]
    },
    {
     "name": "stdin",
     "output_type": "stream",
     "text": [
      "Include numbers in the username? (yes/no):  no\n",
      "Include special characters in the username? (yes/no):  yes\n",
      "Enter the desired length for the username (e.g., 8):  20\n",
      "How many usernames would you like to generate?  3\n"
     ]
    },
    {
     "name": "stdout",
     "output_type": "stream",
     "text": [
      "\n",
      "Generated Usernames:\n",
      "AgileAuroraFNZfNfiuv^\n",
      "EccentricPantherupFC/\n",
      "AgileMeadowpDQqPOmqT.\n"
     ]
    },
    {
     "name": "stdin",
     "output_type": "stream",
     "text": [
      "Do you want to save the usernames to a file? (yes/no):  no\n"
     ]
    }
   ],
   "source": [
    "import random\n",
    "import string\n",
    "\n",
    "#Combine random adjectives and nouns\n",
    "adjectives = [\"Ancient\",\"Brilliant\",\"Eccentric\",\"Fierce\",\"Mystic\",\"Radiant\",\"Silent\",\"Vibrant\",\"Agile\",\"Gentle\",\"Majestic\",\"Enchanted\",\"Curious\",\"Noble\",\"Luminous\"]\n",
    "nouns = [ \"Dragon\", \"Bear\", \"Phoenix\", \"Wolf\", \"Shark\", \"Eagle\", \"Lion\", \"Panther\", \"Falcon\",\"Aurora\",\"Shadow\",\"Meadow\",\"Tempest\",\"Prism\",\"Orbit\"]\n",
    "\n",
    "def generate_username(include_numbers, include_special_chars, username_length):\n",
    "   \n",
    "    adjective = random.choice(adjectives)\n",
    "    noun = random.choice(nouns)\n",
    "\n",
    "   \n",
    "    base_username = adjective + noun\n",
    "#Customization Option\n",
    "   \n",
    "    if username_length > len(base_username):\n",
    "        base_username += ''.join(random.choices(string.ascii_letters, k=username_length - len(base_username)))\n",
    "    elif username_length < len(base_username):\n",
    "        base_username = base_username[:username_length]\n",
    "\n",
    "    if include_numbers:\n",
    "        base_username += str(random.randint(0, 999))\n",
    "    if include_special_chars:\n",
    "        base_username += random.choice(string.punctuation)\n",
    "\n",
    "    return base_username\n",
    "#Save File\n",
    "\n",
    "def save_usernames_to_file(usernames, filename=\"usernames.txt\"):\n",
    "    try:\n",
    "        with open(filename, 'a') as file:\n",
    "            for username in usernames:\n",
    "                file.write(username + \"\\n\")\n",
    "        print(f\"Usernames saved to {filename}.\")\n",
    "    except Exception as e:\n",
    "        print(f\"Error saving usernames: {e}\")\n",
    "\n",
    "# Interactive User Input\n",
    "def main():\n",
    "    print(\"Welcome to the Random Username Generator!\")\n",
    "\n",
    "    \n",
    "    try:\n",
    "        include_numbers = input(\"Include numbers in the username? (yes/no): \").lower() == 'yes'\n",
    "        include_special_chars = input(\"Include special characters in the username? (yes/no): \").lower() == 'yes'\n",
    "        username_length = int(input(\"Enter the desired length for the username (e.g., 8): \"))\n",
    "    except ValueError:\n",
    "        print(\"Invalid input! Please enter valid responses.\")\n",
    "        return\n",
    "\n",
    "  \n",
    "    usernames = []\n",
    "    num_usernames = int(input(\"How many usernames would you like to generate? \"))\n",
    "\n",
    "    for _ in range(num_usernames):\n",
    "        username = generate_username(include_numbers, include_special_chars, username_length)\n",
    "        usernames.append(username)\n",
    "\n",
    "    # Display the generated usernames\n",
    "    print(\"\\nGenerated Usernames:\")\n",
    "    for username in usernames:\n",
    "        print(username)\n",
    "\n",
    "    # Save to file option\n",
    "    save_to_file = input(\"Do you want to save the usernames to a file? (yes/no): \").lower() == 'yes'\n",
    "    if save_to_file:\n",
    "        save_usernames_to_file(usernames)\n",
    "\n",
    "if __name__ == \"__main__\":\n",
    "    main()\n"
   ]
  },
  {
   "cell_type": "code",
   "execution_count": 3,
   "id": "ee5f8381",
   "metadata": {},
   "outputs": [
    {
     "name": "stdout",
     "output_type": "stream",
     "text": [
      "Welcome to the Random Username Generator!\n"
     ]
    },
    {
     "name": "stdin",
     "output_type": "stream",
     "text": [
      "Include numbers in the username? (yes/no):  yes\n",
      "Include special characters in the username? (yes/no):  yes\n",
      "Exclude ambiguous characters (O/0/I/1)? (yes/no):  yes\n",
      "Enter the desired length for the username (e.g., 10):  10\n",
      "Shuffle the username characters for more randomness? (yes/no):  no\n",
      "How many usernames would you like to generate?  5\n"
     ]
    },
    {
     "name": "stdout",
     "output_type": "stream",
     "text": [
      "\n",
      "Generated Usernames:\n",
      "RadiantOrb\n",
      "MysticPris\n",
      "RadiantBea\n",
      "LuminousOr\n",
      "SilentTemp\n"
     ]
    },
    {
     "name": "stdin",
     "output_type": "stream",
     "text": [
      "Do you want to save the usernames to a file? (yes/no):  no\n"
     ]
    }
   ],
   "source": [
    "import random\n",
    "import string\n",
    "\n",
    "# Word pools\n",
    "adjectives = [\"Ancient\", \"Brilliant\", \"Eccentric\", \"Fierce\", \"Mystic\", \"Radiant\", \"Silent\",\n",
    "              \"Vibrant\", \"Agile\", \"Gentle\", \"Majestic\", \"Enchanted\", \"Curious\", \"Noble\", \"Luminous\"]\n",
    "nouns = [\"Dragon\", \"Bear\", \"Phoenix\", \"Wolf\", \"Shark\", \"Eagle\", \"Lion\", \"Panther\",\n",
    "         \"Falcon\", \"Aurora\", \"Shadow\", \"Meadow\", \"Tempest\", \"Prism\", \"Orbit\"]\n",
    "\n",
    "# Enhanced generator\n",
    "def generate_username(include_numbers, include_special_chars, username_length, exclude_ambiguous=True, shuffle_mode=True):\n",
    "    ambiguous_chars = 'O0Il1'\n",
    "    \n",
    "    adjective = random.choice(adjectives)\n",
    "    noun = random.choice(nouns)\n",
    "    base_username = adjective + noun\n",
    "\n",
    "    # Clean character pool\n",
    "    char_pool = string.ascii_letters\n",
    "    if include_numbers:\n",
    "        char_pool += string.digits\n",
    "    if include_special_chars:\n",
    "        char_pool += string.punctuation\n",
    "    if exclude_ambiguous:\n",
    "        char_pool = ''.join(c for c in char_pool if c not in ambiguous_chars)\n",
    "\n",
    "    # Extend or trim base username\n",
    "    if username_length > len(base_username):\n",
    "        base_username += ''.join(random.choices(char_pool, k=username_length - len(base_username)))\n",
    "    elif username_length < len(base_username):\n",
    "        base_username = base_username[:username_length]\n",
    "\n",
    "    # Shuffle the characters for more randomness\n",
    "    if shuffle_mode:\n",
    "        base_username = ''.join(random.sample(base_username, len(base_username)))\n",
    "\n",
    "    return base_username\n",
    "\n",
    "# Save usernames to file\n",
    "def save_usernames_to_file(usernames, filename=\"usernames.txt\"):\n",
    "    try:\n",
    "        with open(filename, 'a') as file:\n",
    "            for username in usernames:\n",
    "                file.write(username + \"\\n\")\n",
    "        print(f\"Usernames saved to {filename}.\")\n",
    "    except Exception as e:\n",
    "        print(f\"Error saving usernames: {e}\")\n",
    "\n",
    "# Main function\n",
    "def main():\n",
    "    print(\"Welcome to the Random Username Generator!\")\n",
    "\n",
    "    try:\n",
    "        include_numbers = input(\"Include numbers in the username? (yes/no): \").lower() == 'yes'\n",
    "        include_special_chars = input(\"Include special characters in the username? (yes/no): \").lower() == 'yes'\n",
    "        exclude_ambiguous = input(\"Exclude ambiguous characters (O/0/I/1)? (yes/no): \").lower() == 'yes'\n",
    "        username_length = int(input(\"Enter the desired length for the username (e.g., 10): \"))\n",
    "        shuffle_mode = input(\"Shuffle the username characters for more randomness? (yes/no): \").lower() == 'yes'\n",
    "        num_usernames = int(input(\"How many usernames would you like to generate? \"))\n",
    "    except ValueError:\n",
    "        print(\"Invalid input! Please enter valid responses.\")\n",
    "        return\n",
    "\n",
    "    # Generate usernames\n",
    "    usernames = []\n",
    "    for _ in range(num_usernames):\n",
    "        username = generate_username(include_numbers, include_special_chars, username_length, exclude_ambiguous, shuffle_mode)\n",
    "        usernames.append(username)\n",
    "\n",
    "    # Show results\n",
    "    print(\"\\nGenerated Usernames:\")\n",
    "    for username in usernames:\n",
    "        print(username)\n",
    "\n",
    "    # Save to file\n",
    "    save_to_file = input(\"Do you want to save the usernames to a file? (yes/no): \").lower() == 'yes'\n",
    "    if save_to_file:\n",
    "        save_usernames_to_file(usernames)\n",
    "\n",
    "if __name__ == \"__main__\":\n",
    "    main()"
   ]
  }
 ],
 "metadata": {
  "kernelspec": {
   "display_name": "Python 3 (ipykernel)",
   "language": "python",
   "name": "python3"
  },
  "language_info": {
   "codemirror_mode": {
    "name": "ipython",
    "version": 3
   },
   "file_extension": ".py",
   "mimetype": "text/x-python",
   "name": "python",
   "nbconvert_exporter": "python",
   "pygments_lexer": "ipython3",
   "version": "3.12.7"
  }
 },
 "nbformat": 4,
 "nbformat_minor": 5
}
